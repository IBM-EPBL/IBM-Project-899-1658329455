{
  "cells": [
    {
      "cell_type": "markdown",
      "metadata": {
        "id": "v-1V9AL-T3rw"
      },
      "source": [
        "TEAM ID:PNT2022TMID26942"
      ]
    },
    {
      "cell_type": "markdown",
      "metadata": {
        "id": "a7Iyv1_6TSgc"
      },
      "source": [
        "#Importing required Libraries"
      ]
    },
    {
      "cell_type": "code",
      "execution_count": 1,
      "metadata": {
        "id": "GbE1s4EK2M-K"
      },
      "outputs": [],
      "source": [
        "import numpy#for numerical analysis\n",
        "import tensorflow#open source ml tool by google"
      ]
    },
    {
      "cell_type": "code",
      "execution_count": 2,
      "metadata": {
        "id": "n-jQf-NL2UVt"
      },
      "outputs": [],
      "source": [
        "from tensorflow.keras.datasets import mnist #mnist dataset\n",
        "from tensorflow.keras.models import Sequential\n",
        "from tensorflow.keras import layers"
      ]
    },
    {
      "cell_type": "code",
      "execution_count": 3,
      "metadata": {
        "id": "4vShgf0_2wXE"
      },
      "outputs": [],
      "source": [
        "from tensorflow.keras.layers import Dense,Flatten\n",
        "from tensorflow.keras.layers import Conv2D\n",
        "from tensorflow import keras\n"
      ]
    },
    {
      "cell_type": "code",
      "execution_count": 4,
      "metadata": {
        "id": "GqJuoPly3bZC"
      },
      "outputs": [],
      "source": [
        "from tensorflow.keras.optimizers import Adam\n",
        "from keras.utils import np_utils"
      ]
    },
    {
      "cell_type": "markdown",
      "metadata": {
        "id": "08Awr3Uy4pnN"
      },
      "source": [
        "#Loading dataset"
      ]
    },
    {
      "cell_type": "markdown",
      "metadata": {
        "id": "ie6rbxsMUTJR"
      },
      "source": [
        "Dataset is available in tensorflow dataset repository"
      ]
    },
    {
      "cell_type": "code",
      "execution_count": 34,
      "metadata": {
        "id": "vARTZNF23ip3"
      },
      "outputs": [],
      "source": [
        "(x_train,y_train),(x_test,y_test)=mnist.load_data()"
      ]
    },
    {
      "cell_type": "code",
      "execution_count": 6,
      "metadata": {
        "colab": {
          "base_uri": "https://localhost:8080/"
        },
        "id": "h5B66mfa42mJ",
        "outputId": "4b72c94d-f968-4f5f-8521-d937f3d916c4"
      },
      "outputs": [
        {
          "name": "stdout",
          "output_type": "stream",
          "text": [
            "(60000, 28, 28)\n",
            "(60000,)\n"
          ]
        }
      ],
      "source": [
        "print(x_train.shape)\n",
        "print(y_train.shape)"
      ]
    },
    {
      "cell_type": "markdown",
      "metadata": {
        "id": "jfOrVvDmUt1S"
      },
      "source": [
        "Training Dataset has 60000 images & testing has 10000 images"
      ]
    },
    {
      "cell_type": "code",
      "execution_count": 7,
      "metadata": {
        "colab": {
          "base_uri": "https://localhost:8080/"
        },
        "id": "7IxI2C975Ur2",
        "outputId": "e8d5719d-d653-4c23-ab61-db282afabb64"
      },
      "outputs": [
        {
          "name": "stdout",
          "output_type": "stream",
          "text": [
            "(10000, 28, 28)\n",
            "(10000,)\n"
          ]
        }
      ],
      "source": [
        "print(x_test.shape)\n",
        "print(y_test.shape)"
      ]
    }
  ],
  "metadata": {
    "colab": {
      "collapsed_sections": [],
      "provenance": []
    },
    "kernelspec": {
      "display_name": "Python 3",
      "name": "python3"
    },
    "language_info": {
      "name": "python"
    }
  },
  "nbformat": 4,
  "nbformat_minor": 0
}
